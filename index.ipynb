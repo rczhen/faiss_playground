{
  "nbformat": 4,
  "nbformat_minor": 0,
  "metadata": {
    "colab": {
      "provenance": [],
      "authorship_tag": "ABX9TyO08WlV6+j2yCTAppRurYpu",
      "include_colab_link": true
    },
    "kernelspec": {
      "name": "python3",
      "display_name": "Python 3"
    },
    "language_info": {
      "name": "python"
    }
  },
  "cells": [
    {
      "cell_type": "markdown",
      "metadata": {
        "id": "view-in-github",
        "colab_type": "text"
      },
      "source": [
        "<a href=\"https://colab.research.google.com/github/rczhen/faiss_playground/blob/main/index.ipynb\" target=\"_parent\"><img src=\"https://colab.research.google.com/assets/colab-badge.svg\" alt=\"Open In Colab\"/></a>"
      ]
    },
    {
      "cell_type": "markdown",
      "source": [
        "https://www.pinecone.io/learn/series/faiss/vector-indexes/"
      ],
      "metadata": {
        "id": "hkGXmqki8nLn"
      }
    },
    {
      "cell_type": "markdown",
      "source": [
        "This article will explore the pros and cons of some of the most important indexes — Flat, LSH, HNSW, and IVF. We will learn how we decide which to use and the impact of parameters in each index."
      ],
      "metadata": {
        "id": "bnWHrtxT9G1w"
      }
    },
    {
      "cell_type": "markdown",
      "source": [
        "We store our vectors in Faiss and query our new Faiss index using a ‘query’ vector. This query vector is compared to other index vectors to find the nearest matches — typically with Euclidean (L2) or inner-product (IP) metrics."
      ],
      "metadata": {
        "id": "AlXLrCzR-CxT"
      }
    },
    {
      "cell_type": "markdown",
      "source": [
        "Things to consider:\n",
        "- Accuracy\n",
        "- Speed\n",
        "- Index memory"
      ],
      "metadata": {
        "id": "Vyw-RYgK-lCC"
      }
    },
    {
      "cell_type": "markdown",
      "source": [
        "Indexes\n",
        "- Flat and accurate (regular KNN)\n",
        "- Locality sensitive hashing (LSH)\n",
        "- Hierarchical navigable small worlds (HNSW)\n",
        "- Inverted file index (traditional search)"
      ],
      "metadata": {
        "id": "9Yx0sY5H-lFC"
      }
    },
    {
      "cell_type": "markdown",
      "source": [
        "Use flat indexes when:\n",
        "- Search quality is a very high priority.\n",
        "- Search time does not matter OR when using a small index (<10K).\n"
      ],
      "metadata": {
        "id": "5Q2VeBBRn-7h"
      }
    },
    {
      "cell_type": "code",
      "execution_count": null,
      "metadata": {
        "id": "OHUp9cBG8WUf"
      },
      "outputs": [],
      "source": []
    },
    {
      "cell_type": "code",
      "source": [
        "import shutil\n",
        "import urllib.request as request\n",
        "from contextlib import closing\n",
        "\n",
        "# first we download the Sift1M dataset\n",
        "with closing(request.urlopen('ftp://ftp.irisa.fr/local/texmex/corpus/sift.tar.gz')) as r:\n",
        "    with open('sift.tar.gz', 'wb') as f:\n",
        "        shutil.copyfileobj(r, f)"
      ],
      "metadata": {
        "id": "wPUP22Al8nyL"
      },
      "execution_count": null,
      "outputs": []
    },
    {
      "cell_type": "code",
      "source": [],
      "metadata": {
        "id": "aKNsKfifoI8I"
      },
      "execution_count": null,
      "outputs": []
    }
  ]
}