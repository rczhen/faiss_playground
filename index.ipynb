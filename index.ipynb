{
  "nbformat": 4,
  "nbformat_minor": 0,
  "metadata": {
    "colab": {
      "provenance": [],
      "toc_visible": true,
      "authorship_tag": "ABX9TyPB7rJ5d73bhIz7xbhvMbKp",
      "include_colab_link": true
    },
    "kernelspec": {
      "name": "python3",
      "display_name": "Python 3"
    },
    "language_info": {
      "name": "python"
    }
  },
  "cells": [
    {
      "cell_type": "markdown",
      "metadata": {
        "id": "view-in-github",
        "colab_type": "text"
      },
      "source": [
        "<a href=\"https://colab.research.google.com/github/rczhen/faiss_playground/blob/main/index.ipynb\" target=\"_parent\"><img src=\"https://colab.research.google.com/assets/colab-badge.svg\" alt=\"Open In Colab\"/></a>"
      ]
    },
    {
      "cell_type": "markdown",
      "source": [
        "https://www.pinecone.io/learn/series/faiss/vector-indexes/"
      ],
      "metadata": {
        "id": "hkGXmqki8nLn"
      }
    },
    {
      "cell_type": "markdown",
      "source": [
        "This article will explore the pros and cons of some of the most important indexes — Flat, LSH, HNSW, and IVF. We will learn how we decide which to use and the impact of parameters in each index."
      ],
      "metadata": {
        "id": "bnWHrtxT9G1w"
      }
    },
    {
      "cell_type": "markdown",
      "source": [
        "We store our vectors in Faiss and query our new Faiss index using a ‘query’ vector. This query vector is compared to other index vectors to find the nearest matches — typically with Euclidean (L2) or inner-product (IP) metrics."
      ],
      "metadata": {
        "id": "AlXLrCzR-CxT"
      }
    },
    {
      "cell_type": "markdown",
      "source": [
        "Things to consider:\n",
        "- Accuracy\n",
        "- Speed\n",
        "- Index memory"
      ],
      "metadata": {
        "id": "Vyw-RYgK-lCC"
      }
    },
    {
      "cell_type": "markdown",
      "source": [
        "Indexes\n",
        "- Flat index (regular KNN). Best quality, lowest speed.\n",
        "- Locality sensitive hashing (LSH)\n",
        "- Hierarchical navigable small worlds (HNSW)\n",
        "- Inverted file index (partitioning)"
      ],
      "metadata": {
        "id": "9Yx0sY5H-lFC"
      }
    },
    {
      "cell_type": "markdown",
      "source": [
        "Use flat indexes when:\n",
        "- Search quality is a very high priority.\n",
        "- Search time does not matter OR when using a small index (<10K).\n"
      ],
      "metadata": {
        "id": "5Q2VeBBRn-7h"
      }
    },
    {
      "cell_type": "markdown",
      "source": [
        "## Datasets for approximate nearest neighbor search\n",
        "\n",
        "http://corpus-texmex.irisa.fr/\n",
        "\n",
        "\n",
        "Overview: This page provides several evaluation sets to evaluate the quality of approximate nearest neighbors search algorithm on different kinds of data and varying database sizes.\n",
        "In particular, we provide a very large set of 1 billion vectors, to our knowledge this is the largest set provided to evaluate ANN methods.\n",
        "\n",
        "Each comprises 3 subsets of vectors:\n",
        "- base vectors: the vectors in which the search is performed\n",
        "- query vectors\n",
        "- learning vectors: to find the parameters involved in a particular method\n",
        "\n",
        "In addition, we provide the groundtruth for each set, in the form of the pre-computed k nearest neighbors and their square Euclidean distance.\n",
        "\n",
        "\n",
        "ANN_SIFT1M:\n",
        "- dimension: 128\n",
        "- nb base vectors: 1M\n",
        "- nb query: 10K\n",
        "- nb learn vectors: 100K"
      ],
      "metadata": {
        "id": "EiPelQQtqgPs"
      }
    },
    {
      "cell_type": "code",
      "source": [
        "import shutil\n",
        "import urllib.request as request\n",
        "from contextlib import closing\n",
        "\n",
        "# first we download the Sift1M dataset\n",
        "with closing(request.urlopen('ftp://ftp.irisa.fr/local/texmex/corpus/sift.tar.gz')) as r:\n",
        "    with open('sift.tar.gz', 'wb') as f:\n",
        "        shutil.copyfileobj(r, f)"
      ],
      "metadata": {
        "id": "wPUP22Al8nyL"
      },
      "execution_count": 1,
      "outputs": []
    },
    {
      "cell_type": "code",
      "source": [
        "import tarfile\n",
        "\n",
        "# the download leaves us with a tar.gz file, we unzip it\n",
        "tar = tarfile.open('sift.tar.gz', \"r:gz\")\n",
        "tar.extractall()"
      ],
      "metadata": {
        "id": "aKNsKfifoI8I"
      },
      "execution_count": 2,
      "outputs": []
    },
    {
      "cell_type": "code",
      "source": [
        "import numpy as np\n",
        "\n",
        "# now define a function to read the fvecs file format of Sift1M dataset\n",
        "def read_fvecs(fp):\n",
        "    a = np.fromfile(fp, dtype='int32')\n",
        "    d = a[0]\n",
        "    return a.reshape(-1, d + 1)[:, 1:].copy().view('float32')"
      ],
      "metadata": {
        "id": "ovxlXJlNpKAk"
      },
      "execution_count": 3,
      "outputs": []
    },
    {
      "cell_type": "code",
      "source": [
        "# data we will search through\n",
        "xb = read_fvecs('./sift/sift_base.fvecs')  # 1M samples\n",
        "# also get some query vectors to search with\n",
        "xq = read_fvecs('./sift/sift_query.fvecs')\n",
        "# take just one query (there are many in sift_learn.fvecs)\n",
        "xq = xq[0].reshape(1, xq.shape[1])"
      ],
      "metadata": {
        "id": "_kqJ716ApPtu"
      },
      "execution_count": 6,
      "outputs": []
    },
    {
      "cell_type": "code",
      "source": [
        "print(xq.shape)\n",
        "print(xb.shape)\n",
        "print(type(xq))"
      ],
      "metadata": {
        "colab": {
          "base_uri": "https://localhost:8080/"
        },
        "id": "qnzK3b7qpVlN",
        "outputId": "1c375f52-9966-4409-f94d-67a98103b6da"
      },
      "execution_count": 10,
      "outputs": [
        {
          "output_type": "stream",
          "name": "stdout",
          "text": [
            "(1, 128)\n",
            "(1000000, 128)\n",
            "<class 'numpy.ndarray'>\n"
          ]
        }
      ]
    },
    {
      "cell_type": "code",
      "source": [
        "xq"
      ],
      "metadata": {
        "colab": {
          "base_uri": "https://localhost:8080/"
        },
        "id": "T6G221B8pxaD",
        "outputId": "beec39d4-a0a9-444d-974c-8f92e2d1ebd2"
      },
      "execution_count": 9,
      "outputs": [
        {
          "output_type": "execute_result",
          "data": {
            "text/plain": [
              "array([[  1.,   3.,  11., 110.,  62.,  22.,   4.,   0.,  43.,  21.,  22.,\n",
              "         18.,   6.,  28.,  64.,   9.,  11.,   1.,   0.,   0.,   1.,  40.,\n",
              "        101.,  21.,  20.,   2.,   4.,   2.,   2.,   9.,  18.,  35.,   1.,\n",
              "          1.,   7.,  25., 108., 116.,  63.,   2.,   0.,   0.,  11.,  74.,\n",
              "         40., 101., 116.,   3.,  33.,   1.,   1.,  11.,  14.,  18., 116.,\n",
              "        116.,  68.,  12.,   5.,   4.,   2.,   2.,   9., 102.,  17.,   3.,\n",
              "         10.,  18.,   8.,  15.,  67.,  63.,  15.,   0.,  14., 116.,  80.,\n",
              "          0.,   2.,  22.,  96.,  37.,  28.,  88.,  43.,   1.,   4.,  18.,\n",
              "        116.,  51.,   5.,  11.,  32.,  14.,   8.,  23.,  44.,  17.,  12.,\n",
              "          9.,   0.,   0.,  19.,  37.,  85.,  18.,  16., 104.,  22.,   6.,\n",
              "          2.,  26.,  12.,  58.,  67.,  82.,  25.,  12.,   2.,   2.,  25.,\n",
              "         18.,   8.,   2.,  19.,  42.,  48.,  11.]], dtype=float32)"
            ]
          },
          "metadata": {},
          "execution_count": 9
        }
      ]
    },
    {
      "cell_type": "markdown",
      "source": [
        "## Flat Indexes"
      ],
      "metadata": {
        "id": "SkpCbqMHvCna"
      }
    },
    {
      "cell_type": "code",
      "source": [
        "!pip install faiss-cpu"
      ],
      "metadata": {
        "id": "VYd_UyHEswcU"
      },
      "execution_count": null,
      "outputs": []
    },
    {
      "cell_type": "code",
      "source": [
        "import faiss\n",
        "\n",
        "d = 128  # dimensionality of Sift1M data\n",
        "k = 10  # number of nearest neighbors to return\n",
        "\n",
        "index = faiss.IndexFlatIP(d)\n",
        "index.add(xb)\n",
        "\n",
        "# no training (as we have no parameters to optimize when storing vectors without transformations or clustering)"
      ],
      "metadata": {
        "id": "I8wtusPTp5FS"
      },
      "execution_count": 21,
      "outputs": []
    },
    {
      "cell_type": "code",
      "source": [
        "%%time\n",
        "D, I = index.search(xq, k)"
      ],
      "metadata": {
        "colab": {
          "base_uri": "https://localhost:8080/"
        },
        "id": "MTq5ciu9u82I",
        "outputId": "3aac1eb6-2236-479e-f5c2-d903a7e5c5f9"
      },
      "execution_count": 20,
      "outputs": [
        {
          "output_type": "stream",
          "name": "stdout",
          "text": [
            "CPU times: user 63.6 ms, sys: 0 ns, total: 63.6 ms\n",
            "Wall time: 66.3 ms\n"
          ]
        }
      ]
    },
    {
      "cell_type": "code",
      "source": [
        "print(D)\n",
        "print(I)"
      ],
      "metadata": {
        "colab": {
          "base_uri": "https://localhost:8080/"
        },
        "id": "jhUlTjHjslHj",
        "outputId": "136302db-17af-4721-fdec-86733fb02024"
      },
      "execution_count": 18,
      "outputs": [
        {
          "output_type": "stream",
          "name": "stdout",
          "text": [
            "[[230843. 230600. 228242. 225288. 225144. 224256. 224214. 223408. 222827.\n",
            "  222341.]]\n",
            "[[932085 934876 561813 708177 706771 695756 435345 701258 872728 455537]]\n"
          ]
        }
      ]
    },
    {
      "cell_type": "markdown",
      "source": [
        "Flat indexes are brilliantly accurate but terribly slow. In similarity search, there is always a trade-off between search-speed and search-quality (accuracy).\n",
        "\n"
      ],
      "metadata": {
        "id": "2Jec-oQPv2zm"
      }
    },
    {
      "cell_type": "markdown",
      "source": [
        "So, how can we make our search faster? There are two primary approaches:\n",
        "\n",
        "1. Reduce vector size — through dimensionality reduction or reducing the number of bits representing our vectors values.\n",
        "2. Reduce search scope — we can do this by clustering or organizing vectors into tree structures based on certain attributes, similarity, or distance — and restricting our search to closest clusters or filter through most similar branches.\n",
        "\n",
        "Using either of these approaches means that we are no longer performing an exhaustive nearest-neighbors search but an approximate nearest-neighbors (ANN) search — as we no longer search the entire, full-resolution dataset."
      ],
      "metadata": {
        "id": "9AuWbj5OwMe5"
      }
    },
    {
      "cell_type": "markdown",
      "source": [
        "## Locality Sensitive Hashing"
      ],
      "metadata": {
        "id": "xCpURfLbwXLj"
      }
    },
    {
      "cell_type": "code",
      "source": [
        "nbits = d * 4  # resolution of bucketed vectors, (d == 128)\n",
        "\n",
        "index = faiss.IndexLSH(d, nbits)\n",
        "index.add(xb)"
      ],
      "metadata": {
        "id": "ea1Eric-uiMy"
      },
      "execution_count": 22,
      "outputs": []
    },
    {
      "cell_type": "code",
      "source": [
        "%%time\n",
        "D, I = index.search(xq, k)"
      ],
      "metadata": {
        "colab": {
          "base_uri": "https://localhost:8080/"
        },
        "id": "NaXtFLkpwrfS",
        "outputId": "5baa1413-6b61-4422-f58a-3f4116bb6fe4"
      },
      "execution_count": 27,
      "outputs": [
        {
          "output_type": "stream",
          "name": "stdout",
          "text": [
            "CPU times: user 31.6 ms, sys: 0 ns, total: 31.6 ms\n",
            "Wall time: 20.7 ms\n"
          ]
        }
      ]
    },
    {
      "cell_type": "code",
      "source": [],
      "metadata": {
        "id": "TM5M3H9ewulg"
      },
      "execution_count": null,
      "outputs": []
    },
    {
      "cell_type": "markdown",
      "source": [
        "## Hierarchical Navigable Small World (HNSW)"
      ],
      "metadata": {
        "id": "5Tmw7RiSxLW-"
      }
    },
    {
      "cell_type": "code",
      "source": [
        "# HNSW index parameters\n",
        "M = 64  # number of connections each vertex will have\n",
        "ef_search = 32  # depth of layers explored during search\n",
        "ef_construction = 64  # depth of layers explored during index construction\n",
        "\n",
        "index = faiss.IndexHNSWFlat(d, M)  # (d == 128)\n",
        "# set efConstruction and efSearch parameters\n",
        "index.hnsw.efConstruction = ef_construction\n",
        "index.hnsw.efSearch = ef_search\n",
        "\n",
        "index.add(xb)"
      ],
      "metadata": {
        "id": "pgFJNdOGxOoW"
      },
      "execution_count": 28,
      "outputs": []
    },
    {
      "cell_type": "code",
      "source": [
        "%%time\n",
        "D, I = index.search(xq, k)"
      ],
      "metadata": {
        "colab": {
          "base_uri": "https://localhost:8080/"
        },
        "id": "oiWphfQUxYTt",
        "outputId": "b75ed837-9890-4616-e330-a02d6d4b90f3"
      },
      "execution_count": 29,
      "outputs": [
        {
          "output_type": "stream",
          "name": "stdout",
          "text": [
            "CPU times: user 1.07 ms, sys: 0 ns, total: 1.07 ms\n",
            "Wall time: 1.03 ms\n"
          ]
        }
      ]
    },
    {
      "cell_type": "code",
      "source": [],
      "metadata": {
        "id": "fTx5BwdYx0ZS"
      },
      "execution_count": null,
      "outputs": []
    },
    {
      "cell_type": "markdown",
      "source": [
        "## Inverted File Index (IVF)"
      ],
      "metadata": {
        "id": "1LeN-O4PyUvc"
      }
    },
    {
      "cell_type": "code",
      "source": [
        "nlist = 128  # number of cells/clusters to partition data into\n",
        "\n",
        "quantizer = faiss.IndexFlatIP(d)  # how the vectors will be stored/compared\n",
        "index = faiss.IndexIVFFlat(quantizer, d, nlist)\n",
        "\n",
        "index.train(xb)  # we must train the index to cluster into cells\n",
        "index.add(xb)"
      ],
      "metadata": {
        "id": "wbBoRg5qybNk"
      },
      "execution_count": 30,
      "outputs": []
    },
    {
      "cell_type": "code",
      "source": [
        "%%time\n",
        "index.nprobe = 8  # set how many of nearest cells to search\n",
        "D, I = index.search(xq, k)"
      ],
      "metadata": {
        "colab": {
          "base_uri": "https://localhost:8080/"
        },
        "id": "bepxAlZby3CG",
        "outputId": "6d302289-afa8-4527-fd5b-51c76053d68d"
      },
      "execution_count": 31,
      "outputs": [
        {
          "output_type": "stream",
          "name": "stdout",
          "text": [
            "CPU times: user 7.99 ms, sys: 994 µs, total: 8.99 ms\n",
            "Wall time: 7.93 ms\n"
          ]
        }
      ]
    },
    {
      "cell_type": "code",
      "source": [],
      "metadata": {
        "id": "hLx4ApN4zLzv"
      },
      "execution_count": null,
      "outputs": []
    }
  ]
}