{
  "nbformat": 4,
  "nbformat_minor": 0,
  "metadata": {
    "colab": {
      "provenance": [],
      "authorship_tag": "ABX9TyNIlfodb28Y33Q1XSAQ6Xox",
      "include_colab_link": true
    },
    "kernelspec": {
      "name": "python3",
      "display_name": "Python 3"
    },
    "language_info": {
      "name": "python"
    }
  },
  "cells": [
    {
      "cell_type": "markdown",
      "metadata": {
        "id": "view-in-github",
        "colab_type": "text"
      },
      "source": [
        "<a href=\"https://colab.research.google.com/github/rczhen/faiss_playground/blob/main/hnsw.ipynb\" target=\"_parent\"><img src=\"https://colab.research.google.com/assets/colab-badge.svg\" alt=\"Open In Colab\"/></a>"
      ]
    },
    {
      "cell_type": "markdown",
      "source": [
        "# Hierarchical Navigable Small World (HNSW) graphs"
      ],
      "metadata": {
        "id": "hDoQijjICYMp"
      }
    },
    {
      "cell_type": "markdown",
      "source": [
        "https://www.pinecone.io/learn/series/faiss/hnsw/"
      ],
      "metadata": {
        "id": "aHQJDgBYCGiK"
      }
    },
    {
      "cell_type": "code",
      "execution_count": null,
      "metadata": {
        "id": "VY0AyVRCVbkO"
      },
      "outputs": [],
      "source": [
        "!pip install faiss-cpu"
      ]
    },
    {
      "cell_type": "code",
      "source": [
        "import faiss\n",
        "import numpy as np"
      ],
      "metadata": {
        "id": "HFwrRb1_CHUs"
      },
      "execution_count": 6,
      "outputs": []
    },
    {
      "cell_type": "markdown",
      "source": [
        "## Dataset"
      ],
      "metadata": {
        "id": "lJwjIT2XOVQy"
      }
    },
    {
      "cell_type": "code",
      "source": [
        "import shutil\n",
        "import urllib.request as request\n",
        "from contextlib import closing\n",
        "\n",
        "# first we download the Sift1M dataset\n",
        "with closing(request.urlopen('ftp://ftp.irisa.fr/local/texmex/corpus/sift.tar.gz')) as r:\n",
        "    with open('sift.tar.gz', 'wb') as f:\n",
        "        shutil.copyfileobj(r, f)"
      ],
      "metadata": {
        "id": "WiGlCLnROUNb"
      },
      "execution_count": 9,
      "outputs": []
    },
    {
      "cell_type": "code",
      "source": [
        "import tarfile\n",
        "\n",
        "# the download leaves us with a tar.gz file, we unzip it\n",
        "tar = tarfile.open('sift.tar.gz', \"r:gz\")\n",
        "tar.extractall()"
      ],
      "metadata": {
        "id": "qCQsx02ZOeOV"
      },
      "execution_count": 10,
      "outputs": []
    },
    {
      "cell_type": "code",
      "source": [
        "# now define a function to read the fvecs file format of Sift1M dataset\n",
        "def read_fvecs(fp):\n",
        "    a = np.fromfile(fp, dtype='int32')\n",
        "    d = a[0]\n",
        "    return a.reshape(-1, d + 1)[:, 1:].copy().view('float32')"
      ],
      "metadata": {
        "id": "jnZaM1KqOeRI"
      },
      "execution_count": 11,
      "outputs": []
    },
    {
      "cell_type": "code",
      "source": [
        "# data we will search through\n",
        "xb = read_fvecs('./sift/sift_base.fvecs')  # 1M samples\n",
        "# also get some query vectors to search with\n",
        "xq = read_fvecs('./sift/sift_query.fvecs')\n",
        "# # take just one query (there are many in sift_learn.fvecs)\n",
        "# xq = xq[0].reshape(1, xq.shape[1])"
      ],
      "metadata": {
        "id": "5VnmergSOeTv"
      },
      "execution_count": 26,
      "outputs": []
    },
    {
      "cell_type": "code",
      "source": [
        "print(xq.shape)\n",
        "print(xb.shape)\n",
        "print(type(xq))"
      ],
      "metadata": {
        "colab": {
          "base_uri": "https://localhost:8080/"
        },
        "id": "kLsH7D5kOeWW",
        "outputId": "9c4bb373-ae6d-4202-e371-1c5716785765"
      },
      "execution_count": 27,
      "outputs": [
        {
          "output_type": "stream",
          "name": "stdout",
          "text": [
            "(10000, 128)\n",
            "(1000000, 128)\n",
            "<class 'numpy.ndarray'>\n"
          ]
        }
      ]
    },
    {
      "cell_type": "markdown",
      "source": [
        "## HNSW"
      ],
      "metadata": {
        "id": "ms8xvToHOuzo"
      }
    },
    {
      "cell_type": "markdown",
      "source": [
        "We can split ANN algorithms into three distinct categories; trees, hashes, and graphs. HNSW slots into the graph category. More specifically, it is a proximity graph, in which two vertices are linked based on their proximity (closer vertices are linked) — often defined in Euclidean distance."
      ],
      "metadata": {
        "id": "EaEyItcyVYcQ"
      }
    },
    {
      "cell_type": "code",
      "source": [
        "# setup our HNSW parameters\n",
        "d = 128  # vector size\n",
        "M = 32   # number of neighbors we add to each vertex on insertion\n",
        "\n",
        "index = faiss.IndexHNSWFlat(d, M)\n",
        "print(index.hnsw)"
      ],
      "metadata": {
        "colab": {
          "base_uri": "https://localhost:8080/"
        },
        "id": "ghSgOwRGNHEv",
        "outputId": "a3274787-7d49-42e2-983b-3c80eff7e408"
      },
      "execution_count": 3,
      "outputs": [
        {
          "output_type": "stream",
          "name": "stdout",
          "text": [
            "<faiss.swigfaiss_avx2.HNSW; proxy of <Swig Object of type 'faiss::HNSW *' at 0x78c69d113750> >\n"
          ]
        }
      ]
    },
    {
      "cell_type": "markdown",
      "source": [
        "In Faiss, these two parameters are set automatically in the set_default_probas method, called at index initialization. The `M_max` value is set to `M`, and `M_max0` set to `M*2`"
      ],
      "metadata": {
        "id": "c03dRdilNuIR"
      }
    },
    {
      "cell_type": "code",
      "source": [
        "# the HNSW index starts with no levels\n",
        "index.hnsw.max_level"
      ],
      "metadata": {
        "colab": {
          "base_uri": "https://localhost:8080/"
        },
        "id": "MzK31gEzNVgc",
        "outputId": "7590a043-3d85-4388-eba1-5644cd4dd997"
      },
      "execution_count": 4,
      "outputs": [
        {
          "output_type": "execute_result",
          "data": {
            "text/plain": [
              "-1"
            ]
          },
          "metadata": {},
          "execution_count": 4
        }
      ]
    },
    {
      "cell_type": "code",
      "source": [
        "# and levels (or layers) are empty too\n",
        "levels = faiss.vector_to_array(index.hnsw.levels)\n",
        "np.bincount(levels)"
      ],
      "metadata": {
        "colab": {
          "base_uri": "https://localhost:8080/"
        },
        "id": "aVZsRsf4N6Jo",
        "outputId": "6dced34a-293c-42b8-9055-6bcd7ddd1b05"
      },
      "execution_count": 7,
      "outputs": [
        {
          "output_type": "execute_result",
          "data": {
            "text/plain": [
              "array([], dtype=int64)"
            ]
          },
          "metadata": {},
          "execution_count": 7
        }
      ]
    },
    {
      "cell_type": "code",
      "source": [
        "index.add(xb)"
      ],
      "metadata": {
        "id": "XJLRPLKON9_u"
      },
      "execution_count": 14,
      "outputs": []
    },
    {
      "cell_type": "code",
      "source": [
        "# after adding our data we will find that the level has been set automatically\n",
        "index.hnsw.max_level"
      ],
      "metadata": {
        "colab": {
          "base_uri": "https://localhost:8080/"
        },
        "id": "_1ZTQI1lOLh_",
        "outputId": "59a13fe1-b6c1-4ad7-e811-38fea27b6807"
      },
      "execution_count": 15,
      "outputs": [
        {
          "output_type": "execute_result",
          "data": {
            "text/plain": [
              "4"
            ]
          },
          "metadata": {},
          "execution_count": 15
        }
      ]
    },
    {
      "cell_type": "code",
      "source": [
        "# and levels (or layers) are now populated\n",
        "levels = faiss.vector_to_array(index.hnsw.levels)\n",
        "np.bincount(levels)"
      ],
      "metadata": {
        "colab": {
          "base_uri": "https://localhost:8080/"
        },
        "id": "aUUX-_uYPGqd",
        "outputId": "9b2768a5-ac40-4d60-e8b9-199522a79955"
      },
      "execution_count": 16,
      "outputs": [
        {
          "output_type": "execute_result",
          "data": {
            "text/plain": [
              "array([     0, 968746,  30276,    951,     26,      1])"
            ]
          },
          "metadata": {},
          "execution_count": 16
        }
      ]
    },
    {
      "cell_type": "markdown",
      "source": [
        "We have the number of levels in our graph, 0 -> 4 as described by max_level.\n",
        "And we have levels, which shows the distribution of vertices on each level from 0 to 4 (ignoring the first 0 value).\n",
        "We can even find which vector is our entry point:"
      ],
      "metadata": {
        "id": "HlYtg8O-QwRP"
      }
    },
    {
      "cell_type": "code",
      "source": [
        "index.hnsw.entry_point"
      ],
      "metadata": {
        "colab": {
          "base_uri": "https://localhost:8080/"
        },
        "id": "IIO-tptUPHHx",
        "outputId": "15b212d2-e4b7-4d23-83c0-047012777ebc"
      },
      "execution_count": 17,
      "outputs": [
        {
          "output_type": "execute_result",
          "data": {
            "text/plain": [
              "118295"
            ]
          },
          "metadata": {},
          "execution_count": 17
        }
      ]
    },
    {
      "cell_type": "markdown",
      "source": [
        "## HNSW Details"
      ],
      "metadata": {
        "id": "kPnB0VHZRgN9"
      }
    },
    {
      "cell_type": "code",
      "source": [
        "def set_default_probas(M: int, m_L: float):\n",
        "    nn = 0  # set nearest neighbors count = 0\n",
        "    cum_nneighbor_per_level = []\n",
        "    level = 0  # we start at level 0\n",
        "    assign_probas = []\n",
        "    while True:\n",
        "        # calculate probability for current level\n",
        "        proba = np.exp(-level / m_L) * (1 - np.exp(-1 / m_L))\n",
        "        # once we reach low prob threshold, we've created enough levels\n",
        "        if proba < 1e-9: break\n",
        "        assign_probas.append(proba)\n",
        "        # neighbors is == M on every level except level 0 where == M*2\n",
        "        nn += M*2 if level == 0 else M\n",
        "        cum_nneighbor_per_level.append(nn)\n",
        "        level += 1\n",
        "    return assign_probas, cum_nneighbor_per_level"
      ],
      "metadata": {
        "id": "LYn6Y6jzQi02"
      },
      "execution_count": 18,
      "outputs": []
    },
    {
      "cell_type": "code",
      "source": [
        "assign_probas, cum_nneighbor_per_level = set_default_probas(\n",
        "    32, 1/np.log(32)\n",
        ")\n",
        "assign_probas, cum_nneighbor_per_level"
      ],
      "metadata": {
        "colab": {
          "base_uri": "https://localhost:8080/"
        },
        "id": "70Ug-3jRRJWT",
        "outputId": "73f332b1-c045-48e8-f74f-cc202a1d50de"
      },
      "execution_count": 19,
      "outputs": [
        {
          "output_type": "execute_result",
          "data": {
            "text/plain": [
              "([0.96875,\n",
              "  0.030273437499999986,\n",
              "  0.0009460449218749991,\n",
              "  2.956390380859371e-05,\n",
              "  9.23871994018553e-07,\n",
              "  2.887099981307982e-08],\n",
              " [64, 96, 128, 160, 192, 224])"
            ]
          },
          "metadata": {},
          "execution_count": 19
        }
      ]
    },
    {
      "cell_type": "code",
      "source": [
        "def random_level(assign_probas: list, rng):\n",
        "    # get random float from 'r'andom 'n'umber 'g'enerator\n",
        "    f = rng.uniform()\n",
        "    for level in range(len(assign_probas)):\n",
        "        # if the random float is less than level probability...\n",
        "        if f < assign_probas[level]:\n",
        "            # ... we assert at this level\n",
        "            return level\n",
        "        # otherwise subtract level probability and try again\n",
        "        f -= assign_probas[level]\n",
        "    # below happens with very low probability\n",
        "    return len(assign_probas) - 1"
      ],
      "metadata": {
        "id": "fXKzolxEROGg"
      },
      "execution_count": 20,
      "outputs": []
    },
    {
      "cell_type": "code",
      "source": [
        "chosen_levels = []\n",
        "rng = np.random.default_rng(12345)\n",
        "for _ in range(1_000_000):\n",
        "    chosen_levels.append(random_level(assign_probas, rng))"
      ],
      "metadata": {
        "id": "OflqOsEcRUUd"
      },
      "execution_count": 21,
      "outputs": []
    },
    {
      "cell_type": "code",
      "source": [
        "np.bincount(chosen_levels)"
      ],
      "metadata": {
        "colab": {
          "base_uri": "https://localhost:8080/"
        },
        "id": "Kfeg2WjFRX8Q",
        "outputId": "97afd2aa-369f-42c4-f9db-7055c0280e48"
      },
      "execution_count": 22,
      "outputs": [
        {
          "output_type": "execute_result",
          "data": {
            "text/plain": [
              "array([968821,  30170,    985,     23,      1])"
            ]
          },
          "metadata": {},
          "execution_count": 22
        }
      ]
    },
    {
      "cell_type": "markdown",
      "source": [
        "## HNSW Performance"
      ],
      "metadata": {
        "id": "fSfhUJyHRm8f"
      }
    },
    {
      "cell_type": "code",
      "source": [
        "index = faiss.IndexHNSWFlat(d, M)"
      ],
      "metadata": {
        "id": "tp5elNfFRaaN"
      },
      "execution_count": 23,
      "outputs": []
    },
    {
      "cell_type": "code",
      "source": [
        "# ef_construction value must be set before we construct the index via index.add(xb),\n",
        "# but ef_search can be set anytime before searching.\n",
        "\n",
        "ef_search = 32  # depth of layers explored during search\n",
        "ef_construction = 64  # depth of layers explored during index construction\n",
        "\n",
        "index.hnsw.efConstruction = ef_construction\n",
        "index.add(xb)  # build the index\n",
        "index.hnsw.efSearch = ef_search"
      ],
      "metadata": {
        "id": "IIr-dfzSRrWR"
      },
      "execution_count": 24,
      "outputs": []
    },
    {
      "cell_type": "code",
      "source": [
        "%%time\n",
        "D, I = index.search(xq[:1000], k=1)"
      ],
      "metadata": {
        "colab": {
          "base_uri": "https://localhost:8080/"
        },
        "id": "vDZ0DVu9R-84",
        "outputId": "d760825c-8cae-41f8-e6ba-fb51d4b43f44"
      },
      "execution_count": 29,
      "outputs": [
        {
          "output_type": "stream",
          "name": "stdout",
          "text": [
            "CPU times: user 286 ms, sys: 1 ms, total: 287 ms\n",
            "Wall time: 158 ms\n"
          ]
        }
      ]
    },
    {
      "cell_type": "code",
      "source": [
        "print(D[:5])\n",
        "print(I[:5])"
      ],
      "metadata": {
        "colab": {
          "base_uri": "https://localhost:8080/"
        },
        "id": "6z6hGP3tSN_u",
        "outputId": "19b379ff-8c38-48f6-ac30-8222c9e18e0f"
      },
      "execution_count": 32,
      "outputs": [
        {
          "output_type": "stream",
          "name": "stdout",
          "text": [
            "[[54229.]\n",
            " [51187.]\n",
            " [30792.]\n",
            " [30510.]\n",
            " [47367.]]\n",
            "[[932085]\n",
            " [413247]\n",
            " [669835]\n",
            " [970797]\n",
            " [748397]]\n"
          ]
        }
      ]
    },
    {
      "cell_type": "code",
      "source": [],
      "metadata": {
        "id": "yE_OmlJ-T1ZM"
      },
      "execution_count": null,
      "outputs": []
    }
  ]
}